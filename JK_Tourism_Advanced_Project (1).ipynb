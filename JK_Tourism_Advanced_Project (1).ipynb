{
 "cells": [
  {
   "cell_type": "markdown",
   "id": "ef1ea34b",
   "metadata": {},
   "source": [
    "# Jammu & Kashmir Tourism Data Analysis and Revenue Prediction\n",
    "This project analyzes tourism data from Jammu & Kashmir and uses machine learning to predict future revenue based on visitor statistics."
   ]
  },
  {
   "cell_type": "code",
   "execution_count": 2,
   "id": "0a247831",
   "metadata": {},
   "outputs": [],
   "source": [
    "import pandas as pd\n",
    "import numpy as np\n",
    "import matplotlib.pyplot as plt\n",
    "import seaborn as sns\n",
    "from sklearn.model_selection import train_test_split\n",
    "from sklearn.linear_model import LinearRegression\n",
    "from sklearn.metrics import mean_squared_error, r2_score"
   ]
  },
  {
   "cell_type": "code",
   "execution_count": 3,
   "id": "292bb738",
   "metadata": {},
   "outputs": [
    {
     "data": {
      "text/html": [
       "<div>\n",
       "<style scoped>\n",
       "    .dataframe tbody tr th:only-of-type {\n",
       "        vertical-align: middle;\n",
       "    }\n",
       "\n",
       "    .dataframe tbody tr th {\n",
       "        vertical-align: top;\n",
       "    }\n",
       "\n",
       "    .dataframe thead th {\n",
       "        text-align: right;\n",
       "    }\n",
       "</style>\n",
       "<table border=\"1\" class=\"dataframe\">\n",
       "  <thead>\n",
       "    <tr style=\"text-align: right;\">\n",
       "      <th></th>\n",
       "      <th>Year</th>\n",
       "      <th>Month</th>\n",
       "      <th>Destination</th>\n",
       "      <th>Domestic_Visitors</th>\n",
       "      <th>Foreign_Visitors</th>\n",
       "      <th>Revenue_INR</th>\n",
       "      <th>Avg_Stay_Days</th>\n",
       "      <th>Total_Tourists</th>\n",
       "    </tr>\n",
       "  </thead>\n",
       "  <tbody>\n",
       "    <tr>\n",
       "      <th>0</th>\n",
       "      <td>2014</td>\n",
       "      <td>January</td>\n",
       "      <td>Srinagar</td>\n",
       "      <td>13266</td>\n",
       "      <td>4393</td>\n",
       "      <td>119046000</td>\n",
       "      <td>3.2</td>\n",
       "      <td>17659</td>\n",
       "    </tr>\n",
       "    <tr>\n",
       "      <th>1</th>\n",
       "      <td>2014</td>\n",
       "      <td>January</td>\n",
       "      <td>Gulmarg</td>\n",
       "      <td>21377</td>\n",
       "      <td>2235</td>\n",
       "      <td>133705000</td>\n",
       "      <td>3.6</td>\n",
       "      <td>23612</td>\n",
       "    </tr>\n",
       "    <tr>\n",
       "      <th>2</th>\n",
       "      <td>2014</td>\n",
       "      <td>January</td>\n",
       "      <td>Pahalgam</td>\n",
       "      <td>8755</td>\n",
       "      <td>1634</td>\n",
       "      <td>63383000</td>\n",
       "      <td>3.5</td>\n",
       "      <td>10389</td>\n",
       "    </tr>\n",
       "    <tr>\n",
       "      <th>3</th>\n",
       "      <td>2014</td>\n",
       "      <td>January</td>\n",
       "      <td>Leh</td>\n",
       "      <td>20053</td>\n",
       "      <td>2704</td>\n",
       "      <td>132713000</td>\n",
       "      <td>3.2</td>\n",
       "      <td>22757</td>\n",
       "    </tr>\n",
       "    <tr>\n",
       "      <th>4</th>\n",
       "      <td>2014</td>\n",
       "      <td>January</td>\n",
       "      <td>Sonamarg</td>\n",
       "      <td>14880</td>\n",
       "      <td>2276</td>\n",
       "      <td>101712000</td>\n",
       "      <td>2.3</td>\n",
       "      <td>17156</td>\n",
       "    </tr>\n",
       "  </tbody>\n",
       "</table>\n",
       "</div>"
      ],
      "text/plain": [
       "   Year    Month Destination  Domestic_Visitors  Foreign_Visitors  \\\n",
       "0  2014  January    Srinagar              13266              4393   \n",
       "1  2014  January     Gulmarg              21377              2235   \n",
       "2  2014  January    Pahalgam               8755              1634   \n",
       "3  2014  January         Leh              20053              2704   \n",
       "4  2014  January    Sonamarg              14880              2276   \n",
       "\n",
       "   Revenue_INR  Avg_Stay_Days  Total_Tourists  \n",
       "0    119046000            3.2           17659  \n",
       "1    133705000            3.6           23612  \n",
       "2     63383000            3.5           10389  \n",
       "3    132713000            3.2           22757  \n",
       "4    101712000            2.3           17156  "
      ]
     },
     "execution_count": 3,
     "metadata": {},
     "output_type": "execute_result"
    }
   ],
   "source": [
    "# Load the dataset\n",
    "df = pd.read_csv(r\"C:\\Users\\rizwan\\Downloads\\jk_tourism_filtered_with_total.csv\")\n",
    "df.head()"
   ]
  },
  {
   "cell_type": "code",
   "execution_count": 4,
   "id": "d65f47ee",
   "metadata": {},
   "outputs": [
    {
     "name": "stdout",
     "output_type": "stream",
     "text": [
      "<class 'pandas.core.frame.DataFrame'>\n",
      "RangeIndex: 1980 entries, 0 to 1979\n",
      "Data columns (total 8 columns):\n",
      " #   Column             Non-Null Count  Dtype  \n",
      "---  ------             --------------  -----  \n",
      " 0   Year               1980 non-null   int64  \n",
      " 1   Month              1980 non-null   object \n",
      " 2   Destination        1980 non-null   object \n",
      " 3   Domestic_Visitors  1980 non-null   int64  \n",
      " 4   Foreign_Visitors   1980 non-null   int64  \n",
      " 5   Revenue_INR        1980 non-null   int64  \n",
      " 6   Avg_Stay_Days      1980 non-null   float64\n",
      " 7   Total_Tourists     1980 non-null   int64  \n",
      "dtypes: float64(1), int64(5), object(2)\n",
      "memory usage: 123.9+ KB\n"
     ]
    },
    {
     "data": {
      "text/plain": [
       "Year                 0\n",
       "Month                0\n",
       "Destination          0\n",
       "Domestic_Visitors    0\n",
       "Foreign_Visitors     0\n",
       "Revenue_INR          0\n",
       "Avg_Stay_Days        0\n",
       "Total_Tourists       0\n",
       "dtype: int64"
      ]
     },
     "execution_count": 4,
     "metadata": {},
     "output_type": "execute_result"
    }
   ],
   "source": [
    "# Explore the dataset\n",
    "df.info()\n",
    "df.describe()\n",
    "df.isnull().sum()"
   ]
  },
  {
   "cell_type": "code",
   "execution_count": 5,
   "id": "c03d4efb-b0f2-44cd-834e-342220cd53d9",
   "metadata": {},
   "outputs": [
    {
     "data": {
      "image/png": "[encoded data removed]",
      "text/plain": [
       "<Figure size 1200x600 with 1 Axes>"
      ]
     },
     "metadata": {},
     "output_type": "display_data"
    }
   ],
   "source": [
    "# Visualize revenue trends over the years\n",
    "plt.figure(figsize=(12,6))\n",
    "sns.barplot(x='Year', y='Revenue_INR', data=df)\n",
    "plt.title('Yearly Revenue from Tourism in J&K')\n",
    "plt.xticks(rotation=45)\n",
    "plt.tight_layout()\n",
    "plt.show()"
   ]
  },
  {
   "cell_type": "code",
   "execution_count": 6,
   "id": "753b680f-eb7f-4b9d-a34a-1a415bb1b395",
   "metadata": {},
   "outputs": [
    {
     "data": {
      "image/png": "[encoded data removed]",
      "text/plain": [
       "<Figure size 1000x600 with 1 Axes>"
      ]
     },
     "metadata": {},
     "output_type": "display_data"
    }
   ],
   "source": [
    "#Year-wise Tourism Revenue in J&K\n",
    "plt.figure(figsize=(10,6))\n",
    "sns.lineplot(data=df, x='Year', y='Revenue_INR', marker='o')\n",
    "plt.title(\" Year-wise Tourism Revenue in J&K\")\n",
    "plt.ylabel(\"Revenue (INR)\")\n",
    "plt.grid(True)\n",
    "plt.show()\n"
   ]
  },
  {
   "cell_type": "code",
   "execution_count": 7,
   "id": "0330ff0c-bc2b-4ea0-9bfe-06b3fc493c73",
   "metadata": {},
   "outputs": [
    {
     "name": "stderr",
     "output_type": "stream",
     "text": [
      "C:\\Users\\rizwan\\AppData\\Local\\Temp\\ipykernel_13576\\1709519617.py:2: FutureWarning: \n",
      "\n",
      "The `ci` parameter is deprecated. Use `errorbar=None` for the same effect.\n",
      "\n",
      "  sns.barplot(data=df, x='Destination', y='Total_Tourists', estimator=sum, ci=None)\n"
     ]
    },
    {
     "data": {
      "image/png": "[encoded data removed]",
      "text/plain": [
       "<Figure size 1000x600 with 1 Axes>"
      ]
     },
     "metadata": {},
     "output_type": "display_data"
    }
   ],
   "source": [
    "plt.figure(figsize=(10,6))\n",
    "sns.barplot(data=df, x='Destination', y='Total_Tourists', estimator=sum, ci=None)\n",
    "plt.title(\" Total Tourists by Destination\")\n",
    "plt.ylabel(\"Number of Tourists\")\n",
    "plt.xticks(rotation=45)\n",
    "plt.show()"
   ]
  },
  {
   "cell_type": "code",
   "execution_count": 8,
   "id": "641c9fcc-6f1c-43b8-91cd-d2f7740a06df",
   "metadata": {},
   "outputs": [
    {
     "data": {
      "image/png": "[encoded data removed]",
      "text/plain": [
       "<Figure size 1000x600 with 1 Axes>"
      ]
     },
     "metadata": {},
     "output_type": "display_data"
    }
   ],
   "source": [
    "plt.figure(figsize=(10,6))\n",
    "sns.boxplot(data=df, x='Destination', y='Avg_Stay_Days')\n",
    "plt.title(\"Average Stay Days by Destination\")\n",
    "plt.ylabel(\"Avg Stay (Days)\")\n",
    "plt.xticks(rotation=45)\n",
    "plt.show()"
   ]
  },
  {
   "cell_type": "code",
   "execution_count": 9,
   "id": "72759aee-f1ca-451d-a31f-d963fe430333",
   "metadata": {},
   "outputs": [],
   "source": [
    "# Z-score based outlier detection\n",
    "def detect_outliers_zscore(df, column_name, threshold=3):\n",
    "    mean = df[column_name].mean()\n",
    "    std = df[column_name].std()\n",
    "    z_scores = (df[column_name] - mean) / std\n",
    "    outliers = df[(z_scores > threshold) | (z_scores < -threshold)]\n",
    "    return outliers"
   ]
  },
  {
   "cell_type": "code",
   "execution_count": 10,
   "id": "97935325-cf32-455e-a7ee-7cc3e3cce1c5",
   "metadata": {},
   "outputs": [],
   "source": [
    "data=df[[\"Total_Tourists\",\"Revenue_INR\"]]\n",
    "from sklearn.preprocessing import MinMaxScaler\n",
    "scaler=MinMaxScaler()\n",
    "data=scaler.fit_transform(data)"
   ]
  },
  {
   "cell_type": "code",
   "execution_count": 11,
   "id": "6fac80ac-72de-40fc-a187-aaa09a64bb34",
   "metadata": {},
   "outputs": [
    {
     "name": "stdout",
     "output_type": "stream",
     "text": [
      "[[0.         0.0036004  0.00418723 ... 0.01588367 0.01696792 0.01774221]\n",
      " [0.         0.0074809  0.01119809 ... 0.01414698 0.01515131 0.01682473]\n",
      " [0.         0.00427191 0.00646402 ... 0.00965193 0.01370805 0.01468657]\n",
      " ...\n",
      " [0.         0.01005506 0.01167969 ... 0.01934101 0.02055153 0.02077046]\n",
      " [0.         0.00682801 0.00744105 ... 0.01419581 0.01453499 0.01515029]\n",
      " [0.         0.00260867 0.01267135 ... 0.01989587 0.01991687 0.02142876]]\n",
      "[[   0 1163  280 ... 1893 1332 1455]\n",
      " [   1  980 1657 ... 1306  824 1051]\n",
      " [   2 1189  946 ... 1378 1371  774]\n",
      " ...\n",
      " [1977  961 1266 ...   52  717 1507]\n",
      " [1978 1592  431 ... 1633 1364  399]\n",
      " [1979  704 1483 ... 1260 1129  882]]\n"
     ]
    }
   ],
   "source": [
    "from sklearn.neighbors import NearestNeighbors\n",
    "nn=NearestNeighbors(n_neighbors=10)\n",
    "nn.fit(data)\n",
    "d,i=nn.kneighbors(data)#d is distance and i is index numbers\n",
    "print(d)\n",
    "print(i)# for know the eps values"
   ]
  },
  {
   "cell_type": "code",
   "execution_count": 12,
   "id": "7a4a06bc-abef-4877-95a4-42c78492e84d",
   "metadata": {},
   "outputs": [
    {
     "data": {
      "text/plain": [
       "pandas.core.frame.DataFrame"
      ]
     },
     "execution_count": 12,
     "metadata": {},
     "output_type": "execute_result"
    }
   ],
   "source": [
    "type(df)"
   ]
  },
  {
   "cell_type": "markdown",
   "id": "af5b5266-7178-41b8-b920-b91aa4b3dfd0",
   "metadata": {},
   "source": [
    "**\"We chose this because we know the expected value of ESP for DBSCAN.\"**\n"
   ]
  },
  {
   "cell_type": "code",
   "execution_count": 14,
   "id": "1af6ef49-6b37-483f-92d0-979d7269a495",
   "metadata": {},
   "outputs": [
    {
     "data": {
      "image/png": "[encoded data removed]",
      "text/plain": [
       "<Figure size 640x480 with 1 Axes>"
      ]
     },
     "metadata": {},
     "output_type": "display_data"
    }
   ],
   "source": [
    "\n",
    "import numpy as np\n",
    "d=d[:,1]\n",
    "d=np.sort(d,axis=0)\n",
    "plt.plot(d)\n",
    "plt.title(\"k distance\")\n",
    "plt.show()"
   ]
  },
  {
   "cell_type": "code",
   "execution_count": 15,
   "id": "c1a7d13a-2a7b-4b01-81e8-e976e5c9644c",
   "metadata": {},
   "outputs": [
    {
     "data": {
      "text/plain": [
       "pandas.core.frame.DataFrame"
      ]
     },
     "execution_count": 15,
     "metadata": {},
     "output_type": "execute_result"
    }
   ],
   "source": [
    "type(df)"
   ]
  },
  {
   "cell_type": "code",
   "execution_count": 16,
   "id": "11edae1c-f368-4f7c-9ee5-32b6e48ff64c",
   "metadata": {},
   "outputs": [
    {
     "name": "stdout",
     "output_type": "stream",
     "text": [
      "[-1 -1 -1 ... -1 -1 -1]\n",
      "[-1  0  1  2  3  4  5  6  7  8  9 10 11 12 13 14 15 16 17 18 19 20 21 22\n",
      " 23 24 25 26 27 28 29 30 31 32 33 34 35 36 37 38 39 40 41 42 43 44 45 46\n",
      " 47 48 49 50 51]\n",
      "(array([-1,  0,  1,  2,  3,  4,  5,  6,  7,  8,  9, 10, 11, 12, 13, 14, 15,\n",
      "       16, 17, 18, 19, 20, 21, 22, 23, 24, 25, 26, 27, 28, 29, 30, 31, 32,\n",
      "       33, 34, 35, 36, 37, 38, 39, 40, 41, 42, 43, 44, 45, 46, 47, 48, 49,\n",
      "       50, 51], dtype=int64), array([1297,   16,   18,   18,   18,   10,   25,   19,   37,   27,   19,\n",
      "         16,   12,   10,    7,   10,   13,   15,   16,   12,   10,   14,\n",
      "         13,   10,    9,   10,   14,   18,   14,   12,   18,   10,   11,\n",
      "         10,   10,   13,   11,   10,   13,   12,   13,    8,   11,   10,\n",
      "         10,    5,    7,    9,   10,   10,   10,   10,   10], dtype=int64))\n"
     ]
    }
   ],
   "source": [
    "from sklearn.cluster import DBSCAN\n",
    "import numpy as np\n",
    "dbscan=DBSCAN(eps=0.012,min_samples=10)#eps=radius and min_simple = boarders how many points are in it is up to us how much\n",
    "dbscan.fit(data)\n",
    "labels=dbscan.labels_\n",
    "print(labels)\n",
    "print(np.unique(labels))\n",
    "print(np.unique(labels,return_counts=True))"
   ]
  },
  {
   "cell_type": "code",
   "execution_count": 17,
   "id": "6260d55d-e399-4bca-a126-f06abc973490",
   "metadata": {},
   "outputs": [
    {
     "data": {
      "text/plain": [
       "pandas.core.frame.DataFrame"
      ]
     },
     "execution_count": 17,
     "metadata": {},
     "output_type": "execute_result"
    }
   ],
   "source": [
    "type(df)"
   ]
  },
  {
   "cell_type": "code",
   "execution_count": 18,
   "id": "7390e6d1-8ca3-4a52-85b4-912147f055d9",
   "metadata": {},
   "outputs": [
    {
     "data": {
      "text/html": [
       "<div>\n",
       "<style scoped>\n",
       "    .dataframe tbody tr th:only-of-type {\n",
       "        vertical-align: middle;\n",
       "    }\n",
       "\n",
       "    .dataframe tbody tr th {\n",
       "        vertical-align: top;\n",
       "    }\n",
       "\n",
       "    .dataframe thead th {\n",
       "        text-align: right;\n",
       "    }\n",
       "</style>\n",
       "<table border=\"1\" class=\"dataframe\">\n",
       "  <thead>\n",
       "    <tr style=\"text-align: right;\">\n",
       "      <th></th>\n",
       "      <th>Year</th>\n",
       "      <th>Month</th>\n",
       "      <th>Destination</th>\n",
       "      <th>Domestic_Visitors</th>\n",
       "      <th>Foreign_Visitors</th>\n",
       "      <th>Revenue_INR</th>\n",
       "      <th>Avg_Stay_Days</th>\n",
       "      <th>Total_Tourists</th>\n",
       "    </tr>\n",
       "  </thead>\n",
       "  <tbody>\n",
       "    <tr>\n",
       "      <th>0</th>\n",
       "      <td>2014</td>\n",
       "      <td>4</td>\n",
       "      <td>Srinagar</td>\n",
       "      <td>13266</td>\n",
       "      <td>4393</td>\n",
       "      <td>119046000</td>\n",
       "      <td>3.2</td>\n",
       "      <td>17659</td>\n",
       "    </tr>\n",
       "    <tr>\n",
       "      <th>1</th>\n",
       "      <td>2014</td>\n",
       "      <td>4</td>\n",
       "      <td>Gulmarg</td>\n",
       "      <td>21377</td>\n",
       "      <td>2235</td>\n",
       "      <td>133705000</td>\n",
       "      <td>3.6</td>\n",
       "      <td>23612</td>\n",
       "    </tr>\n",
       "    <tr>\n",
       "      <th>2</th>\n",
       "      <td>2014</td>\n",
       "      <td>4</td>\n",
       "      <td>Pahalgam</td>\n",
       "      <td>8755</td>\n",
       "      <td>1634</td>\n",
       "      <td>63383000</td>\n",
       "      <td>3.5</td>\n",
       "      <td>10389</td>\n",
       "    </tr>\n",
       "    <tr>\n",
       "      <th>3</th>\n",
       "      <td>2014</td>\n",
       "      <td>4</td>\n",
       "      <td>Leh</td>\n",
       "      <td>20053</td>\n",
       "      <td>2704</td>\n",
       "      <td>132713000</td>\n",
       "      <td>3.2</td>\n",
       "      <td>22757</td>\n",
       "    </tr>\n",
       "    <tr>\n",
       "      <th>4</th>\n",
       "      <td>2014</td>\n",
       "      <td>4</td>\n",
       "      <td>Sonamarg</td>\n",
       "      <td>14880</td>\n",
       "      <td>2276</td>\n",
       "      <td>101712000</td>\n",
       "      <td>2.3</td>\n",
       "      <td>17156</td>\n",
       "    </tr>\n",
       "    <tr>\n",
       "      <th>...</th>\n",
       "      <td>...</td>\n",
       "      <td>...</td>\n",
       "      <td>...</td>\n",
       "      <td>...</td>\n",
       "      <td>...</td>\n",
       "      <td>...</td>\n",
       "      <td>...</td>\n",
       "      <td>...</td>\n",
       "    </tr>\n",
       "    <tr>\n",
       "      <th>1975</th>\n",
       "      <td>2024</td>\n",
       "      <td>2</td>\n",
       "      <td>Anantnag</td>\n",
       "      <td>21566</td>\n",
       "      <td>4338</td>\n",
       "      <td>159886000</td>\n",
       "      <td>5.5</td>\n",
       "      <td>25904</td>\n",
       "    </tr>\n",
       "    <tr>\n",
       "      <th>1976</th>\n",
       "      <td>2024</td>\n",
       "      <td>2</td>\n",
       "      <td>Baramulla</td>\n",
       "      <td>18643</td>\n",
       "      <td>4419</td>\n",
       "      <td>146243000</td>\n",
       "      <td>6.0</td>\n",
       "      <td>23062</td>\n",
       "    </tr>\n",
       "    <tr>\n",
       "      <th>1977</th>\n",
       "      <td>2024</td>\n",
       "      <td>2</td>\n",
       "      <td>Rajouri</td>\n",
       "      <td>9913</td>\n",
       "      <td>3643</td>\n",
       "      <td>93281000</td>\n",
       "      <td>3.4</td>\n",
       "      <td>13556</td>\n",
       "    </tr>\n",
       "    <tr>\n",
       "      <th>1978</th>\n",
       "      <td>2024</td>\n",
       "      <td>2</td>\n",
       "      <td>Budgam</td>\n",
       "      <td>9103</td>\n",
       "      <td>1721</td>\n",
       "      <td>66167000</td>\n",
       "      <td>4.0</td>\n",
       "      <td>10824</td>\n",
       "    </tr>\n",
       "    <tr>\n",
       "      <th>1979</th>\n",
       "      <td>2024</td>\n",
       "      <td>2</td>\n",
       "      <td>Handwara</td>\n",
       "      <td>8271</td>\n",
       "      <td>2809</td>\n",
       "      <td>75063000</td>\n",
       "      <td>4.1</td>\n",
       "      <td>11080</td>\n",
       "    </tr>\n",
       "  </tbody>\n",
       "</table>\n",
       "<p>1980 rows × 8 columns</p>\n",
       "</div>"
      ],
      "text/plain": [
       "      Year  Month Destination  Domestic_Visitors  Foreign_Visitors  \\\n",
       "0     2014      4    Srinagar              13266              4393   \n",
       "1     2014      4     Gulmarg              21377              2235   \n",
       "2     2014      4    Pahalgam               8755              1634   \n",
       "3     2014      4         Leh              20053              2704   \n",
       "4     2014      4    Sonamarg              14880              2276   \n",
       "...    ...    ...         ...                ...               ...   \n",
       "1975  2024      2    Anantnag              21566              4338   \n",
       "1976  2024      2   Baramulla              18643              4419   \n",
       "1977  2024      2     Rajouri               9913              3643   \n",
       "1978  2024      2      Budgam               9103              1721   \n",
       "1979  2024      2    Handwara               8271              2809   \n",
       "\n",
       "      Revenue_INR  Avg_Stay_Days  Total_Tourists  \n",
       "0       119046000            3.2           17659  \n",
       "1       133705000            3.6           23612  \n",
       "2        63383000            3.5           10389  \n",
       "3       132713000            3.2           22757  \n",
       "4       101712000            2.3           17156  \n",
       "...           ...            ...             ...  \n",
       "1975    159886000            5.5           25904  \n",
       "1976    146243000            6.0           23062  \n",
       "1977     93281000            3.4           13556  \n",
       "1978     66167000            4.0           10824  \n",
       "1979     75063000            4.1           11080  \n",
       "\n",
       "[1980 rows x 8 columns]"
      ]
     },
     "execution_count": 18,
     "metadata": {},
     "output_type": "execute_result"
    }
   ],
   "source": [
    "from sklearn.preprocessing import LabelEncoder\n",
    "encoder2=LabelEncoder()#creating object\n",
    "df[\"Month\"]=encoder2.fit_transform(df[\"Month\"])\n",
    "df"
   ]
  },
  {
   "cell_type": "code",
   "execution_count": 19,
   "id": "19b9c9d5-e172-4a9e-bbc1-f995e56ed6d2",
   "metadata": {},
   "outputs": [
    {
     "data": {
      "text/plain": [
       "pandas.core.frame.DataFrame"
      ]
     },
     "execution_count": 19,
     "metadata": {},
     "output_type": "execute_result"
    }
   ],
   "source": [
    "type(df)"
   ]
  },
  {
   "cell_type": "code",
   "execution_count": 20,
   "id": "71faebf3-f769-48da-8518-b68915ba50df",
   "metadata": {},
   "outputs": [
    {
     "data": {
      "text/html": [
       "<div>\n",
       "<style scoped>\n",
       "    .dataframe tbody tr th:only-of-type {\n",
       "        vertical-align: middle;\n",
       "    }\n",
       "\n",
       "    .dataframe tbody tr th {\n",
       "        vertical-align: top;\n",
       "    }\n",
       "\n",
       "    .dataframe thead th {\n",
       "        text-align: right;\n",
       "    }\n",
       "</style>\n",
       "<table border=\"1\" class=\"dataframe\">\n",
       "  <thead>\n",
       "    <tr style=\"text-align: right;\">\n",
       "      <th></th>\n",
       "      <th>Year</th>\n",
       "      <th>Month</th>\n",
       "      <th>Destination</th>\n",
       "      <th>Domestic_Visitors</th>\n",
       "      <th>Foreign_Visitors</th>\n",
       "      <th>Revenue_INR</th>\n",
       "      <th>Avg_Stay_Days</th>\n",
       "      <th>Total_Tourists</th>\n",
       "    </tr>\n",
       "  </thead>\n",
       "  <tbody>\n",
       "    <tr>\n",
       "      <th>0</th>\n",
       "      <td>2014</td>\n",
       "      <td>4</td>\n",
       "      <td>14</td>\n",
       "      <td>13266</td>\n",
       "      <td>4393</td>\n",
       "      <td>119046000</td>\n",
       "      <td>3.2</td>\n",
       "      <td>17659</td>\n",
       "    </tr>\n",
       "    <tr>\n",
       "      <th>1</th>\n",
       "      <td>2014</td>\n",
       "      <td>4</td>\n",
       "      <td>4</td>\n",
       "      <td>21377</td>\n",
       "      <td>2235</td>\n",
       "      <td>133705000</td>\n",
       "      <td>3.6</td>\n",
       "      <td>23612</td>\n",
       "    </tr>\n",
       "    <tr>\n",
       "      <th>2</th>\n",
       "      <td>2014</td>\n",
       "      <td>4</td>\n",
       "      <td>10</td>\n",
       "      <td>8755</td>\n",
       "      <td>1634</td>\n",
       "      <td>63383000</td>\n",
       "      <td>3.5</td>\n",
       "      <td>10389</td>\n",
       "    </tr>\n",
       "    <tr>\n",
       "      <th>3</th>\n",
       "      <td>2014</td>\n",
       "      <td>4</td>\n",
       "      <td>9</td>\n",
       "      <td>20053</td>\n",
       "      <td>2704</td>\n",
       "      <td>132713000</td>\n",
       "      <td>3.2</td>\n",
       "      <td>22757</td>\n",
       "    </tr>\n",
       "    <tr>\n",
       "      <th>4</th>\n",
       "      <td>2014</td>\n",
       "      <td>4</td>\n",
       "      <td>13</td>\n",
       "      <td>14880</td>\n",
       "      <td>2276</td>\n",
       "      <td>101712000</td>\n",
       "      <td>2.3</td>\n",
       "      <td>17156</td>\n",
       "    </tr>\n",
       "    <tr>\n",
       "      <th>...</th>\n",
       "      <td>...</td>\n",
       "      <td>...</td>\n",
       "      <td>...</td>\n",
       "      <td>...</td>\n",
       "      <td>...</td>\n",
       "      <td>...</td>\n",
       "      <td>...</td>\n",
       "      <td>...</td>\n",
       "    </tr>\n",
       "    <tr>\n",
       "      <th>1975</th>\n",
       "      <td>2024</td>\n",
       "      <td>2</td>\n",
       "      <td>0</td>\n",
       "      <td>21566</td>\n",
       "      <td>4338</td>\n",
       "      <td>159886000</td>\n",
       "      <td>5.5</td>\n",
       "      <td>25904</td>\n",
       "    </tr>\n",
       "    <tr>\n",
       "      <th>1976</th>\n",
       "      <td>2024</td>\n",
       "      <td>2</td>\n",
       "      <td>1</td>\n",
       "      <td>18643</td>\n",
       "      <td>4419</td>\n",
       "      <td>146243000</td>\n",
       "      <td>6.0</td>\n",
       "      <td>23062</td>\n",
       "    </tr>\n",
       "    <tr>\n",
       "      <th>1977</th>\n",
       "      <td>2024</td>\n",
       "      <td>2</td>\n",
       "      <td>12</td>\n",
       "      <td>9913</td>\n",
       "      <td>3643</td>\n",
       "      <td>93281000</td>\n",
       "      <td>3.4</td>\n",
       "      <td>13556</td>\n",
       "    </tr>\n",
       "    <tr>\n",
       "      <th>1978</th>\n",
       "      <td>2024</td>\n",
       "      <td>2</td>\n",
       "      <td>2</td>\n",
       "      <td>9103</td>\n",
       "      <td>1721</td>\n",
       "      <td>66167000</td>\n",
       "      <td>4.0</td>\n",
       "      <td>10824</td>\n",
       "    </tr>\n",
       "    <tr>\n",
       "      <th>1979</th>\n",
       "      <td>2024</td>\n",
       "      <td>2</td>\n",
       "      <td>5</td>\n",
       "      <td>8271</td>\n",
       "      <td>2809</td>\n",
       "      <td>75063000</td>\n",
       "      <td>4.1</td>\n",
       "      <td>11080</td>\n",
       "    </tr>\n",
       "  </tbody>\n",
       "</table>\n",
       "<p>1980 rows × 8 columns</p>\n",
       "</div>"
      ],
      "text/plain": [
       "      Year  Month  Destination  Domestic_Visitors  Foreign_Visitors  \\\n",
       "0     2014      4           14              13266              4393   \n",
       "1     2014      4            4              21377              2235   \n",
       "2     2014      4           10               8755              1634   \n",
       "3     2014      4            9              20053              2704   \n",
       "4     2014      4           13              14880              2276   \n",
       "...    ...    ...          ...                ...               ...   \n",
       "1975  2024      2            0              21566              4338   \n",
       "1976  2024      2            1              18643              4419   \n",
       "1977  2024      2           12               9913              3643   \n",
       "1978  2024      2            2               9103              1721   \n",
       "1979  2024      2            5               8271              2809   \n",
       "\n",
       "      Revenue_INR  Avg_Stay_Days  Total_Tourists  \n",
       "0       119046000            3.2           17659  \n",
       "1       133705000            3.6           23612  \n",
       "2        63383000            3.5           10389  \n",
       "3       132713000            3.2           22757  \n",
       "4       101712000            2.3           17156  \n",
       "...           ...            ...             ...  \n",
       "1975    159886000            5.5           25904  \n",
       "1976    146243000            6.0           23062  \n",
       "1977     93281000            3.4           13556  \n",
       "1978     66167000            4.0           10824  \n",
       "1979     75063000            4.1           11080  \n",
       "\n",
       "[1980 rows x 8 columns]"
      ]
     },
     "execution_count": 20,
     "metadata": {},
     "output_type": "execute_result"
    }
   ],
   "source": [
    "from sklearn.preprocessing import LabelEncoder\n",
    "encoder2=LabelEncoder()#creating object\n",
    "df[\"Destination\"]=encoder2.fit_transform(df[\"Destination\"])\n",
    "df"
   ]
  },
  {
   "cell_type": "code",
   "execution_count": 21,
   "id": "92ceb394-d91c-46d0-a389-ffdfd937c24e",
   "metadata": {},
   "outputs": [
    {
     "data": {
      "text/plain": [
       "pandas.core.frame.DataFrame"
      ]
     },
     "execution_count": 21,
     "metadata": {},
     "output_type": "execute_result"
    }
   ],
   "source": [
    "type(df)"
   ]
  },
  {
   "cell_type": "markdown",
   "id": "feda42ec-47df-4858-b54f-844ca1db3040",
   "metadata": {},
   "source": [
    "**Separate features and target**"
   ]
  },
  {
   "cell_type": "code",
   "execution_count": 23,
   "id": "4793b68a",
   "metadata": {},
   "outputs": [],
   "source": [
    "# Separate features and target\n",
    "X = df.drop(['Revenue_INR'], axis=1)\n",
    "y = df['Revenue_INR']"
   ]
  },
  {
   "cell_type": "markdown",
   "id": "a889e5db-3ae7-4558-90b2-19897a87b3ec",
   "metadata": {},
   "source": [
    "**Split into training and testing sets**"
   ]
  },
  {
   "cell_type": "code",
   "execution_count": 25,
   "id": "66d8559a",
   "metadata": {},
   "outputs": [
    {
     "name": "stdout",
     "output_type": "stream",
     "text": [
      "215      88067000\n",
      "161     105043000\n",
      "135     108659000\n",
      "386     155909000\n",
      "674      85445000\n",
      "          ...    \n",
      "792     129312000\n",
      "318     144293000\n",
      "1902    162383000\n",
      "621      95628000\n",
      "1749    132801000\n",
      "Name: Revenue_INR, Length: 396, dtype: int64\n"
     ]
    }
   ],
   "source": [
    "# Split into training and testing sets\n",
    "from sklearn.model_selection import train_test_split\n",
    "x_train,x_test,y_train,y_test=train_test_split(X,y,test_size=0.2,random_state=0)\n",
    "print(y_test)"
   ]
  },
  {
   "cell_type": "markdown",
   "id": "c61c7d3e-3eb4-4f83-947a-68235034487c",
   "metadata": {},
   "source": [
    "**Train the Linear Regression model**"
   ]
  },
  {
   "cell_type": "code",
   "execution_count": 27,
   "id": "b1bf60bf",
   "metadata": {},
   "outputs": [
    {
     "name": "stdout",
     "output_type": "stream",
     "text": [
      "[8.80670e+07 1.05043e+08 1.08659e+08 1.55909e+08 8.54450e+07 8.46270e+07\n",
      " 1.23173e+08 1.00572e+08 1.38557e+08 1.41790e+08 1.21085e+08 8.52500e+07\n",
      " 1.06113e+08 1.59838e+08 1.18498e+08 1.18429e+08 1.61938e+08 1.21891e+08\n",
      " 1.15180e+08 1.16059e+08 1.12672e+08 1.59025e+08 1.02171e+08 1.40975e+08\n",
      " 9.99570e+07 1.77137e+08 6.78100e+07 9.91370e+07 1.29899e+08 1.29720e+08\n",
      " 1.18761e+08 1.00430e+08 9.73500e+07 1.51303e+08 8.78810e+07 1.63692e+08\n",
      " 9.26750e+07 9.44720e+07 1.47962e+08 1.65428e+08 1.45160e+08 1.53522e+08\n",
      " 1.42847e+08 1.15519e+08 8.12340e+07 1.34869e+08 1.10623e+08 1.05272e+08\n",
      " 1.60692e+08 1.51367e+08 1.24223e+08 1.36555e+08 8.48450e+07 1.39335e+08\n",
      " 1.29313e+08 1.49282e+08 1.37443e+08 1.16258e+08 9.08940e+07 1.28329e+08\n",
      " 1.73652e+08 1.40841e+08 1.04704e+08 9.18780e+07 1.30966e+08 1.34711e+08\n",
      " 1.27236e+08 7.52140e+07 1.76576e+08 1.02075e+08 1.04814e+08 1.48658e+08\n",
      " 1.47924e+08 8.67280e+07 1.23037e+08 1.38372e+08 1.09477e+08 8.80490e+07\n",
      " 1.41336e+08 1.40241e+08 1.13655e+08 1.29248e+08 9.06010e+07 7.96270e+07\n",
      " 1.60675e+08 1.43013e+08 1.21247e+08 9.00160e+07 1.36369e+08 1.19055e+08\n",
      " 7.22120e+07 6.99630e+07 1.01901e+08 1.45542e+08 1.58918e+08 8.93450e+07\n",
      " 9.08090e+07 1.15109e+08 1.27892e+08 1.01278e+08 1.24936e+08 1.48963e+08\n",
      " 1.35277e+08 1.00537e+08 1.21088e+08 1.20247e+08 1.10977e+08 1.09636e+08\n",
      " 1.41727e+08 9.07440e+07 1.81013e+08 9.95680e+07 1.21153e+08 9.03670e+07\n",
      " 1.32877e+08 1.37223e+08 8.82390e+07 1.08731e+08 1.49716e+08 1.03131e+08\n",
      " 9.54410e+07 1.62329e+08 1.10378e+08 6.48190e+07 1.45707e+08 1.22860e+08\n",
      " 1.10205e+08 7.96970e+07 1.56743e+08 9.63100e+07 1.50445e+08 9.89690e+07\n",
      " 1.21290e+08 1.35007e+08 1.41926e+08 1.40115e+08 1.06555e+08 1.57338e+08\n",
      " 9.82240e+07 1.05592e+08 1.37837e+08 1.65203e+08 1.53615e+08 1.22998e+08\n",
      " 1.60177e+08 1.45758e+08 1.59846e+08 1.30944e+08 1.13753e+08 1.74336e+08\n",
      " 1.23227e+08 1.20506e+08 9.10280e+07 1.18191e+08 1.21826e+08 1.38629e+08\n",
      " 1.22849e+08 7.18170e+07 8.52470e+07 1.57769e+08 1.06129e+08 9.94160e+07\n",
      " 1.36394e+08 1.25763e+08 1.49347e+08 9.58050e+07 1.41463e+08 7.45220e+07\n",
      " 1.78050e+08 1.22200e+08 7.37360e+07 1.40982e+08 1.57679e+08 1.34165e+08\n",
      " 1.48817e+08 1.01135e+08 1.83007e+08 1.61993e+08 1.15585e+08 1.12221e+08\n",
      " 1.24757e+08 1.08631e+08 1.57271e+08 1.27943e+08 7.96560e+07 1.60002e+08\n",
      " 9.91880e+07 1.19177e+08 1.65756e+08 1.35069e+08 7.73460e+07 1.50705e+08\n",
      " 1.67832e+08 1.26561e+08 9.73170e+07 1.06271e+08 1.51492e+08 1.06043e+08\n",
      " 1.20775e+08 1.14057e+08 1.60738e+08 1.26602e+08 9.74860e+07 1.55016e+08\n",
      " 5.98070e+07 1.49359e+08 1.32712e+08 1.24639e+08 9.97930e+07 8.66220e+07\n",
      " 1.17023e+08 1.39619e+08 1.31504e+08 1.14902e+08 1.27322e+08 1.41893e+08\n",
      " 1.03048e+08 8.24320e+07 1.21625e+08 9.11970e+07 8.89590e+07 1.49327e+08\n",
      " 1.51057e+08 1.28165e+08 9.33330e+07 1.56148e+08 1.24948e+08 9.77580e+07\n",
      " 1.22089e+08 6.90880e+07 1.16819e+08 9.18800e+07 1.51509e+08 1.42625e+08\n",
      " 1.11275e+08 9.68340e+07 1.54295e+08 9.22800e+07 1.44532e+08 6.83350e+07\n",
      " 1.43165e+08 1.18645e+08 1.12894e+08 7.70130e+07 1.07115e+08 9.11360e+07\n",
      " 1.47056e+08 1.45131e+08 1.27160e+08 1.51359e+08 9.96290e+07 1.50701e+08\n",
      " 1.59960e+08 1.47444e+08 1.14966e+08 1.10172e+08 1.23789e+08 1.38815e+08\n",
      " 7.18500e+07 1.35979e+08 1.16439e+08 1.18555e+08 1.45929e+08 1.26432e+08\n",
      " 1.37815e+08 7.50630e+07 1.18739e+08 1.21353e+08 1.02523e+08 9.94580e+07\n",
      " 1.72526e+08 1.74482e+08 1.05717e+08 1.55084e+08 8.26080e+07 1.59886e+08\n",
      " 1.17600e+08 1.76581e+08 1.26576e+08 1.32413e+08 1.57215e+08 7.74740e+07\n",
      " 1.29013e+08 1.72077e+08 1.57855e+08 1.14643e+08 1.14745e+08 1.37178e+08\n",
      " 1.43194e+08 1.41105e+08 9.97110e+07 1.36917e+08 1.17484e+08 1.15623e+08\n",
      " 1.21454e+08 1.41061e+08 1.39464e+08 1.55842e+08 1.45583e+08 1.53105e+08\n",
      " 8.11280e+07 1.30847e+08 1.51755e+08 1.53914e+08 8.46720e+07 1.08914e+08\n",
      " 1.05020e+08 1.51960e+08 1.48016e+08 1.01672e+08 6.99410e+07 9.15550e+07\n",
      " 1.03175e+08 1.27272e+08 9.96670e+07 1.74563e+08 1.39068e+08 9.71440e+07\n",
      " 7.44820e+07 9.16910e+07 1.45599e+08 1.53220e+08 8.74030e+07 7.26030e+07\n",
      " 1.00163e+08 7.18710e+07 1.26369e+08 7.95660e+07 1.51547e+08 1.41901e+08\n",
      " 1.12965e+08 7.91260e+07 6.76540e+07 9.46260e+07 1.44359e+08 1.29731e+08\n",
      " 1.37999e+08 1.81915e+08 1.00132e+08 1.61940e+08 8.39360e+07 1.17798e+08\n",
      " 1.03451e+08 1.26104e+08 1.50923e+08 1.31854e+08 6.34440e+07 1.33705e+08\n",
      " 1.57874e+08 1.03835e+08 9.53500e+07 1.43587e+08 1.07942e+08 1.50266e+08\n",
      " 1.55084e+08 9.80590e+07 1.46376e+08 1.26558e+08 1.25485e+08 1.31555e+08\n",
      " 1.19084e+08 1.10886e+08 1.06943e+08 1.52141e+08 1.30195e+08 1.64262e+08\n",
      " 1.00738e+08 1.47301e+08 9.50420e+07 9.73770e+07 8.37210e+07 1.73290e+08\n",
      " 1.32662e+08 1.23345e+08 1.75535e+08 9.30690e+07 1.62433e+08 9.68340e+07\n",
      " 1.46243e+08 7.17960e+07 9.36160e+07 1.25723e+08 1.63631e+08 1.09519e+08\n",
      " 1.06726e+08 1.04007e+08 8.55820e+07 8.31010e+07 1.17104e+08 1.36598e+08\n",
      " 1.32175e+08 1.29312e+08 1.44293e+08 1.62383e+08 9.56280e+07 1.32801e+08]\n"
     ]
    }
   ],
   "source": [
    "# Train the Linear Regression model\n",
    "from sklearn.linear_model import LinearRegression\n",
    "regressor=LinearRegression() #creating object for model\n",
    "regressor.fit(x_train,y_train)#fit method is used to feed the module with traning data\n",
    "#next to preduct \n",
    "y_pred=regressor.predict(x_test)\n",
    "print(y_pred)"
   ]
  },
  {
   "cell_type": "code",
   "execution_count": 28,
   "id": "0f6dd92a-5618-4050-ad33-cdc3a739f730",
   "metadata": {},
   "outputs": [
    {
     "name": "stdout",
     "output_type": "stream",
     "text": [
      "7.306164651952419e-16\n"
     ]
    }
   ],
   "source": [
    "from sklearn.metrics import mean_squared_error\n",
    "print(mean_squared_error(y_test,y_pred))"
   ]
  },
  {
   "cell_type": "code",
   "execution_count": 29,
   "id": "2b4ff88d-9348-4516-b27b-4ce730fd6e91",
   "metadata": {},
   "outputs": [
    {
     "name": "stdout",
     "output_type": "stream",
     "text": [
      "1.892748505178124e-08\n"
     ]
    }
   ],
   "source": [
    "from sklearn.metrics import mean_absolute_error\n",
    "print(mean_absolute_error(y_test,y_pred))"
   ]
  },
  {
   "cell_type": "markdown",
   "id": "3ed8463d-698b-4348-a76d-008d073c9e86",
   "metadata": {},
   "source": [
    "**R2 Score Of Linear Regression model**"
   ]
  },
  {
   "cell_type": "code",
   "execution_count": 31,
   "id": "dc84f880-95fe-4411-8bec-92c274daf1a4",
   "metadata": {},
   "outputs": [
    {
     "name": "stdout",
     "output_type": "stream",
     "text": [
      "1.0\n"
     ]
    }
   ],
   "source": [
    "from sklearn.metrics import r2_score\n",
    "print(r2_score(y_test,y_pred))"
   ]
  },
  {
   "cell_type": "markdown",
   "id": "20c39d28-f26c-4fce-9916-379264bde2aa",
   "metadata": {},
   "source": [
    "**Train the DecisionTreeRegressor**"
   ]
  },
  {
   "cell_type": "code",
   "execution_count": 79,
   "id": "1acc5751-6682-4b67-b50b-9a90f7d99e26",
   "metadata": {},
   "outputs": [
    {
     "name": "stdout",
     "output_type": "stream",
     "text": [
      "0.9969912603299892\n"
     ]
    }
   ],
   "source": [
    "from sklearn.tree import DecisionTreeRegressor\n",
    "d=DecisionTreeRegressor(min_samples_split=5)\n",
    "d.fit(x_train,y_train)\n",
    "y_pred=d.predict(x_test)\n",
    "from sklearn.metrics import r2_score\n",
    "print(r2_score(y_test,y_pred))"
   ]
  },
  {
   "cell_type": "markdown",
   "id": "b7137f4e-fa7b-435d-abee-ad27904c31f8",
   "metadata": {},
   "source": [
    "**R2 Score Of DecisionTreeRegressor**"
   ]
  },
  {
   "cell_type": "code",
   "execution_count": 81,
   "id": "c4becba0-e57d-4683-b858-ee50098a8c5e",
   "metadata": {},
   "outputs": [
    {
     "name": "stdout",
     "output_type": "stream",
     "text": [
      "1206469.2760942762\n"
     ]
    }
   ],
   "source": [
    "from sklearn.metrics import mean_absolute_error\n",
    "print(mean_absolute_error(y_test,y_pred))"
   ]
  },
  {
   "cell_type": "code",
   "execution_count": 83,
   "id": "42bcf170-beee-4527-a966-23b1a525fbd5",
   "metadata": {},
   "outputs": [
    {
     "name": "stdout",
     "output_type": "stream",
     "text": [
      "2283123250385.803\n"
     ]
    }
   ],
   "source": [
    "from sklearn.metrics import mean_squared_error\n",
    "print(mean_squared_error(y_test,y_pred))"
   ]
  },
  {
   "cell_type": "code",
   "execution_count": 85,
   "id": "10805349-7174-4bfc-b085-f0983f3ec610",
   "metadata": {},
   "outputs": [
    {
     "name": "stdout",
     "output_type": "stream",
     "text": [
      "0.9969912603299892\n"
     ]
    }
   ],
   "source": [
    "from sklearn.metrics import r2_score\n",
    "print(r2_score(y_test,y_pred))"
   ]
  },
  {
   "cell_type": "markdown",
   "id": "07ad60bb-7adb-48af-a188-b9c89a5bc53d",
   "metadata": {},
   "source": [
    "**Train the RandomForestRegressor**"
   ]
  },
  {
   "cell_type": "code",
   "execution_count": 37,
   "id": "585cefcf-9cd7-4c3e-bd3e-0e8e4f89f75d",
   "metadata": {},
   "outputs": [
    {
     "name": "stdout",
     "output_type": "stream",
     "text": [
      "[8.8012230e+07 1.0445539e+08 1.0806832e+08 1.5650824e+08 8.5264070e+07\n",
      " 8.5260980e+07 1.2293365e+08 1.0056647e+08 1.3834567e+08 1.4074351e+08\n",
      " 1.2087190e+08 8.6994520e+07 1.0688156e+08 1.6005836e+08 1.1823405e+08\n",
      " 1.1818383e+08 1.6195203e+08 1.2270000e+08 1.1509458e+08 1.1619692e+08\n",
      " 1.1245807e+08 1.5930027e+08 1.0234547e+08 1.4032561e+08 1.0084945e+08\n",
      " 1.7683921e+08 6.8492630e+07 9.9556690e+07 1.3007432e+08 1.3039876e+08\n",
      " 1.1585545e+08 1.0086153e+08 9.7363550e+07 1.5320131e+08 8.7724560e+07\n",
      " 1.6399441e+08 9.2716830e+07 9.4020970e+07 1.4826399e+08 1.6548024e+08\n",
      " 1.4668051e+08 1.5364441e+08 1.4238602e+08 1.1611827e+08 8.1551780e+07\n",
      " 1.3643254e+08 1.1167107e+08 1.0564622e+08 1.6109486e+08 1.5063991e+08\n",
      " 1.2482321e+08 1.3655002e+08 8.4865390e+07 1.3873889e+08 1.2941311e+08\n",
      " 1.4862204e+08 1.3716533e+08 1.1674989e+08 9.1625500e+07 1.2792897e+08\n",
      " 1.7370721e+08 1.4099123e+08 1.0503483e+08 9.1217760e+07 1.3111134e+08\n",
      " 1.3535689e+08 1.2603273e+08 7.5541690e+07 1.7643580e+08 1.0232360e+08\n",
      " 1.0475404e+08 1.4886700e+08 1.4779804e+08 8.7057920e+07 1.2332457e+08\n",
      " 1.3987612e+08 1.0914830e+08 8.8550860e+07 1.4092225e+08 1.3801202e+08\n",
      " 1.1357193e+08 1.2944130e+08 9.0761040e+07 8.0686020e+07 1.6026247e+08\n",
      " 1.4172152e+08 1.2148379e+08 8.9748150e+07 1.3621972e+08 1.1881601e+08\n",
      " 7.1607570e+07 6.8968990e+07 1.0219911e+08 1.4499568e+08 1.5906570e+08\n",
      " 8.8899960e+07 9.1177740e+07 1.1377890e+08 1.2805933e+08 1.0119249e+08\n",
      " 1.2433950e+08 1.4837812e+08 1.3459835e+08 1.0172274e+08 1.2019337e+08\n",
      " 1.1952028e+08 1.0991014e+08 1.0952159e+08 1.4141336e+08 9.1570530e+07\n",
      " 1.7937158e+08 9.9866940e+07 1.2125474e+08 8.9374990e+07 1.3202139e+08\n",
      " 1.3695530e+08 8.8335920e+07 1.0902731e+08 1.4784849e+08 1.0305454e+08\n",
      " 9.4675770e+07 1.6257503e+08 1.1015933e+08 6.6634370e+07 1.4560391e+08\n",
      " 1.2280366e+08 1.1037449e+08 8.0603420e+07 1.5660364e+08 9.6471680e+07\n",
      " 1.4990081e+08 9.8412840e+07 1.2156000e+08 1.3519807e+08 1.4176603e+08\n",
      " 1.3965713e+08 1.0763259e+08 1.5755553e+08 9.7621120e+07 1.0594659e+08\n",
      " 1.3618693e+08 1.6560721e+08 1.5354828e+08 1.2318575e+08 1.6118610e+08\n",
      " 1.4581166e+08 1.6020295e+08 1.3156810e+08 1.1262834e+08 1.7408475e+08\n",
      " 1.2244884e+08 1.2002037e+08 9.1569210e+07 1.1793347e+08 1.2218417e+08\n",
      " 1.3860844e+08 1.2268960e+08 7.1624810e+07 8.5694180e+07 1.5764282e+08\n",
      " 1.0548298e+08 9.9803220e+07 1.3651024e+08 1.2495220e+08 1.4920056e+08\n",
      " 9.6078310e+07 1.4164421e+08 7.4655780e+07 1.7767872e+08 1.2284114e+08\n",
      " 7.5123020e+07 1.4088151e+08 1.5779279e+08 1.3415294e+08 1.4805099e+08\n",
      " 1.0091573e+08 1.8082093e+08 1.6234080e+08 1.1492582e+08 1.1172710e+08\n",
      " 1.2453922e+08 1.0930372e+08 1.5791437e+08 1.2802633e+08 7.9623630e+07\n",
      " 1.5993282e+08 9.8794220e+07 1.1964372e+08 1.6519815e+08 1.3410369e+08\n",
      " 7.6791500e+07 1.5147873e+08 1.6801750e+08 1.2503633e+08 9.7123570e+07\n",
      " 1.0539562e+08 1.4994959e+08 1.0574582e+08 1.2141366e+08 1.1240999e+08\n",
      " 1.5975402e+08 1.2674217e+08 9.7188800e+07 1.5532691e+08 6.0275240e+07\n",
      " 1.5034085e+08 1.3305712e+08 1.2414359e+08 9.9850400e+07 8.6966580e+07\n",
      " 1.1679127e+08 1.3978251e+08 1.3071542e+08 1.1570135e+08 1.2696571e+08\n",
      " 1.4218934e+08 1.0340967e+08 8.2058580e+07 1.2114979e+08 9.1082910e+07\n",
      " 8.8966320e+07 1.4833718e+08 1.4991377e+08 1.2790427e+08 9.2929880e+07\n",
      " 1.5526168e+08 1.2549790e+08 9.6649410e+07 1.2192588e+08 6.8311090e+07\n",
      " 1.1702136e+08 9.2156330e+07 1.5098580e+08 1.4223729e+08 1.1067007e+08\n",
      " 9.8071430e+07 1.5144602e+08 9.3779190e+07 1.4524448e+08 6.7664310e+07\n",
      " 1.4161594e+08 1.1909932e+08 1.1365237e+08 7.6334070e+07 1.0698235e+08\n",
      " 9.1032070e+07 1.4701398e+08 1.4542180e+08 1.2670943e+08 1.5097866e+08\n",
      " 9.8966700e+07 1.5078449e+08 1.6132891e+08 1.4858989e+08 1.1568106e+08\n",
      " 1.0890371e+08 1.2386211e+08 1.3871231e+08 7.1721470e+07 1.3628790e+08\n",
      " 1.1688112e+08 1.1825419e+08 1.4512502e+08 1.2630631e+08 1.3781191e+08\n",
      " 7.4955580e+07 1.2025495e+08 1.2191307e+08 1.0326700e+08 9.8206180e+07\n",
      " 1.7256518e+08 1.7396041e+08 1.0569014e+08 1.5521761e+08 8.2420050e+07\n",
      " 1.5985891e+08 1.1790368e+08 1.7619208e+08 1.2496378e+08 1.3114263e+08\n",
      " 1.5735146e+08 7.7355520e+07 1.2902461e+08 1.7202283e+08 1.5868193e+08\n",
      " 1.1404033e+08 1.1449888e+08 1.3683038e+08 1.4334361e+08 1.4134482e+08\n",
      " 9.9430140e+07 1.3690950e+08 1.1703390e+08 1.1581080e+08 1.2147698e+08\n",
      " 1.4068307e+08 1.3943410e+08 1.5551384e+08 1.4530868e+08 1.5344046e+08\n",
      " 8.1071980e+07 1.3066297e+08 1.5179220e+08 1.5393072e+08 8.4626270e+07\n",
      " 1.0878786e+08 1.0493706e+08 1.5287833e+08 1.4859455e+08 9.9802360e+07\n",
      " 6.9753100e+07 9.1693350e+07 1.0322564e+08 1.2726864e+08 9.9298720e+07\n",
      " 1.7447212e+08 1.3949544e+08 9.6965800e+07 7.4156240e+07 9.2008490e+07\n",
      " 1.4478358e+08 1.5329151e+08 8.7328140e+07 7.3161130e+07 1.0017731e+08\n",
      " 7.2211240e+07 1.2631733e+08 7.9180510e+07 1.5012682e+08 1.4072811e+08\n",
      " 1.1245001e+08 7.8773260e+07 6.7224680e+07 9.5819960e+07 1.4445025e+08\n",
      " 1.2950605e+08 1.3744685e+08 1.8169831e+08 9.9950940e+07 1.6061382e+08\n",
      " 8.4711650e+07 1.1785104e+08 1.0348383e+08 1.2536176e+08 1.5140913e+08\n",
      " 1.3169008e+08 6.3648140e+07 1.3373537e+08 1.5601470e+08 1.0377263e+08\n",
      " 9.4674670e+07 1.4237717e+08 1.0748303e+08 1.4975253e+08 1.5610952e+08\n",
      " 9.7680730e+07 1.4741581e+08 1.2674741e+08 1.2487360e+08 1.3252947e+08\n",
      " 1.1820144e+08 1.1069260e+08 1.0663494e+08 1.5252248e+08 1.3012903e+08\n",
      " 1.6483054e+08 9.9788530e+07 1.4713229e+08 9.4806280e+07 9.7587260e+07\n",
      " 8.2718850e+07 1.7299520e+08 1.3326583e+08 1.2264405e+08 1.7555894e+08\n",
      " 9.2710980e+07 1.6287701e+08 9.6664790e+07 1.4566711e+08 7.1080380e+07\n",
      " 9.3518210e+07 1.2559763e+08 1.6219651e+08 1.1042755e+08 1.0730312e+08\n",
      " 1.0455847e+08 8.4238290e+07 8.2760180e+07 1.1706831e+08 1.3560098e+08\n",
      " 1.3159003e+08 1.2924993e+08 1.4435928e+08 1.6273449e+08 9.6174840e+07\n",
      " 1.3343617e+08]\n"
     ]
    }
   ],
   "source": [
    "from sklearn.ensemble import RandomForestRegressor#it is randomforest regressor\n",
    "r= RandomForestRegressor(n_estimators=100)#how much modules works\n",
    "r.fit(x_train,y_train)\n",
    "y_pred=r.predict(x_test)\n",
    "print(y_pred)"
   ]
  },
  {
   "cell_type": "markdown",
   "id": "c64ac05a-3b6b-4518-8d90-4879f0350b9d",
   "metadata": {},
   "source": [
    "**R2 Score Of  RandomForestRegressor**"
   ]
  },
  {
   "cell_type": "code",
   "execution_count": 39,
   "id": "871d685f-9566-4648-936b-dfea52472533",
   "metadata": {},
   "outputs": [
    {
     "name": "stdout",
     "output_type": "stream",
     "text": [
      "0.9993806650566431\n"
     ]
    }
   ],
   "source": [
    "from sklearn.metrics import r2_score\n",
    "print(r2_score(y_test,y_pred))"
   ]
  },
  {
   "cell_type": "markdown",
   "id": "0bc9bf81-1712-48f5-8105-f183178b8bca",
   "metadata": {},
   "source": [
    "**Train the KNeighborsRegressor**"
   ]
  },
  {
   "cell_type": "code",
   "execution_count": 41,
   "id": "52922d45-8c28-4e4a-8177-70f2fc0c0753",
   "metadata": {},
   "outputs": [],
   "source": [
    "from sklearn.neighbors import KNeighborsRegressor\n",
    "from sklearn.metrics import accuracy_score\n",
    "knn=KNeighborsRegressor(n_neighbors=3)\n",
    "knn.fit(x_train,y_train)\n",
    "y_pred=knn.predict(x_test)"
   ]
  },
  {
   "cell_type": "markdown",
   "id": "5917e5c3-ea04-470d-bb03-c1a393c4ed4d",
   "metadata": {},
   "source": [
    "**R2 Score Of KNeighborsRegressor**"
   ]
  },
  {
   "cell_type": "code",
   "execution_count": 43,
   "id": "5ce0be0c-8f68-42c5-9fab-332d6e74aada",
   "metadata": {},
   "outputs": [
    {
     "name": "stdout",
     "output_type": "stream",
     "text": [
      "0.9992596073228062\n"
     ]
    }
   ],
   "source": [
    "from sklearn.metrics import r2_score\n",
    "print(r2_score(y_test,y_pred))"
   ]
  },
  {
   "cell_type": "markdown",
   "id": "1b35f610-46f8-49f5-999a-3fce013d768d",
   "metadata": {},
   "source": [
    "**\"After comparing all the algorithms, we found that the Decision Tree is the best algorithm for our data.\"**\n",
    "\n",
    "**\"After comparing all the models, we found that there is no overfitting in any of our machine learning models except for Linear Regression.\"**\n",
    "\n",
    "**Decision Tree**: 60,016,030.0\n",
    "\n",
    "**Random Forest**: 59,215,500.0\n",
    "\n",
    "**K-Nearest Neighbors (KNN)**: 6,004,433.33\n",
    "\n",
    "**Linear Regression**: 781,680.22\n"
   ]
  },
  {
   "cell_type": "markdown",
   "id": "be507d26-d87f-4323-913b-3eadefe7e86d",
   "metadata": {},
   "source": [
    "**Predict revenue for a custom input**\n"
   ]
  },
  {
   "cell_type": "code",
   "execution_count": 46,
   "id": "b21fb78f",
   "metadata": {},
   "outputs": [
    {
     "name": "stdout",
     "output_type": "stream",
     "text": [
      "Predicted Revenue (INR): 7816809.221282478\n"
     ]
    }
   ],
   "source": [
    "# You must match the input format exactly with the training data\n",
    "sample_input = X.columns\n",
    "empty_input = pd.DataFrame([np.zeros(len(sample_input))], columns=sample_input)\n",
    "# Example: Set values manually (edit as needed)\n",
    "empty_input.loc[0, 'Domestic_Visitors'] = 100\n",
    "empty_input.loc[0, 'Foreign_Visitors'] = 500\n",
    "empty_input.loc[0, 'Avg_Stay_Days'] = 3.5\n",
    "empty_input.loc[0, 'Total_Tourists'] = 1050\n",
    "# Set correct month and destination flags\n",
    "empty_input.loc[0, 'Month'] = 1\n",
    "empty_input.loc[0, 'Destination'] = 2\n",
    "# Predict\n",
    "predicted_revenue = regressor.predict(empty_input)\n",
    "print('Predicted Revenue (INR):', predicted_revenue[0])"
   ]
  }
 ],
 "metadata": {
  "kernelspec": {
   "display_name": "Python 3 (ipykernel)",
   "language": "python",
   "name": "python3"
  },
  "language_info": {
   "codemirror_mode": {
    "name": "ipython",
    "version": 3
   },
   "file_extension": ".py",
   "mimetype": "text/x-python",
   "name": "python",
   "nbconvert_exporter": "python",
   "pygments_lexer": "ipython3",
   "version": "3.12.4"
  }
 },
 "nbformat": 4,
 "nbformat_minor": 5
}
